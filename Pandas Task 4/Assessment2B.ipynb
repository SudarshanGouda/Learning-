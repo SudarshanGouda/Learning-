{
 "cells": [
  {
   "cell_type": "markdown",
   "metadata": {},
   "source": [
    "###### Assessment"
   ]
  },
  {
   "cell_type": "markdown",
   "metadata": {},
   "source": [
    "###### I am going to provide two .csv files , you are supposed to work on them and have to provide solutions to the following problems"
   ]
  },
  {
   "cell_type": "markdown",
   "metadata": {},
   "source": [
    "###### import necessary libraries"
   ]
  },
  {
   "cell_type": "code",
   "execution_count": 1,
   "metadata": {},
   "outputs": [],
   "source": [
    "import numpy as np\n",
    "import pandas as pd"
   ]
  },
  {
   "cell_type": "markdown",
   "metadata": {},
   "source": [
    "###### merge those two csv files (after getting as dataframes, get them as a single dataframe)"
   ]
  },
  {
   "cell_type": "code",
   "execution_count": 44,
   "metadata": {},
   "outputs": [
    {
     "data": {
      "text/html": [
       "<div>\n",
       "<style scoped>\n",
       "    .dataframe tbody tr th:only-of-type {\n",
       "        vertical-align: middle;\n",
       "    }\n",
       "\n",
       "    .dataframe tbody tr th {\n",
       "        vertical-align: top;\n",
       "    }\n",
       "\n",
       "    .dataframe thead th {\n",
       "        text-align: right;\n",
       "    }\n",
       "</style>\n",
       "<table border=\"1\" class=\"dataframe\">\n",
       "  <thead>\n",
       "    <tr style=\"text-align: right;\">\n",
       "      <th></th>\n",
       "      <th>Name</th>\n",
       "      <th>python</th>\n",
       "      <th>mysql</th>\n",
       "      <th>Previous Geekions</th>\n",
       "      <th>CodeKata Score</th>\n",
       "      <th>Department</th>\n",
       "      <th>Rising</th>\n",
       "      <th>python_en</th>\n",
       "      <th>computational_thinking</th>\n",
       "    </tr>\n",
       "  </thead>\n",
       "  <tbody>\n",
       "    <tr>\n",
       "      <th>0</th>\n",
       "      <td>A.Dharani</td>\n",
       "      <td>82.0</td>\n",
       "      <td>20.00</td>\n",
       "      <td>24500</td>\n",
       "      <td>24500</td>\n",
       "      <td>Computer Science and Engineering</td>\n",
       "      <td>0</td>\n",
       "      <td>NaN</td>\n",
       "      <td>NaN</td>\n",
       "    </tr>\n",
       "    <tr>\n",
       "      <th>1</th>\n",
       "      <td>V.JEEVITHA</td>\n",
       "      <td>82.0</td>\n",
       "      <td>20.00</td>\n",
       "      <td>21740</td>\n",
       "      <td>21740</td>\n",
       "      <td>Computer Science and Engineering</td>\n",
       "      <td>0</td>\n",
       "      <td>NaN</td>\n",
       "      <td>NaN</td>\n",
       "    </tr>\n",
       "    <tr>\n",
       "      <th>2</th>\n",
       "      <td>HEMAVATHI.R</td>\n",
       "      <td>100.0</td>\n",
       "      <td>100.00</td>\n",
       "      <td>19680</td>\n",
       "      <td>19680</td>\n",
       "      <td>Computer Science and Engineering</td>\n",
       "      <td>0</td>\n",
       "      <td>NaN</td>\n",
       "      <td>NaN</td>\n",
       "    </tr>\n",
       "    <tr>\n",
       "      <th>3</th>\n",
       "      <td>Mugunthan S</td>\n",
       "      <td>100.0</td>\n",
       "      <td>47.00</td>\n",
       "      <td>10610</td>\n",
       "      <td>10610</td>\n",
       "      <td>Computer Science and Engineering</td>\n",
       "      <td>0</td>\n",
       "      <td>NaN</td>\n",
       "      <td>NaN</td>\n",
       "    </tr>\n",
       "    <tr>\n",
       "      <th>4</th>\n",
       "      <td>Sathammai.S</td>\n",
       "      <td>100.0</td>\n",
       "      <td>8.00</td>\n",
       "      <td>8980</td>\n",
       "      <td>8980</td>\n",
       "      <td>Computer Science and Engineering</td>\n",
       "      <td>0</td>\n",
       "      <td>NaN</td>\n",
       "      <td>NaN</td>\n",
       "    </tr>\n",
       "    <tr>\n",
       "      <th>5</th>\n",
       "      <td>NIVEESHWAR S</td>\n",
       "      <td>100.0</td>\n",
       "      <td>0.00</td>\n",
       "      <td>8200</td>\n",
       "      <td>8200</td>\n",
       "      <td>Computer Science and Engineering</td>\n",
       "      <td>0</td>\n",
       "      <td>NaN</td>\n",
       "      <td>NaN</td>\n",
       "    </tr>\n",
       "    <tr>\n",
       "      <th>6</th>\n",
       "      <td>KALAIARASAN K</td>\n",
       "      <td>85.0</td>\n",
       "      <td>47.00</td>\n",
       "      <td>7750</td>\n",
       "      <td>7880</td>\n",
       "      <td>Electronics and Communication Engineering</td>\n",
       "      <td>130</td>\n",
       "      <td>NaN</td>\n",
       "      <td>NaN</td>\n",
       "    </tr>\n",
       "    <tr>\n",
       "      <th>7</th>\n",
       "      <td>MOHAMED ZUBAIR AHMED</td>\n",
       "      <td>82.0</td>\n",
       "      <td>4.00</td>\n",
       "      <td>7020</td>\n",
       "      <td>7020</td>\n",
       "      <td>Computer Science and Engineering</td>\n",
       "      <td>0</td>\n",
       "      <td>NaN</td>\n",
       "      <td>NaN</td>\n",
       "    </tr>\n",
       "    <tr>\n",
       "      <th>8</th>\n",
       "      <td>J.SUGANTHI</td>\n",
       "      <td>27.0</td>\n",
       "      <td>50.00</td>\n",
       "      <td>5860</td>\n",
       "      <td>5860</td>\n",
       "      <td>Electronics and Communication Engineering</td>\n",
       "      <td>0</td>\n",
       "      <td>NaN</td>\n",
       "      <td>NaN</td>\n",
       "    </tr>\n",
       "    <tr>\n",
       "      <th>9</th>\n",
       "      <td>thamizhpaana</td>\n",
       "      <td>29.0</td>\n",
       "      <td>0.00</td>\n",
       "      <td>5500</td>\n",
       "      <td>5500</td>\n",
       "      <td>Computer Science and Engineering</td>\n",
       "      <td>0</td>\n",
       "      <td>NaN</td>\n",
       "      <td>NaN</td>\n",
       "    </tr>\n",
       "    <tr>\n",
       "      <th>10</th>\n",
       "      <td>Iyappan Samiraj</td>\n",
       "      <td>50.0</td>\n",
       "      <td>24.00</td>\n",
       "      <td>5400</td>\n",
       "      <td>5400</td>\n",
       "      <td>Electronics and Communication Engineering</td>\n",
       "      <td>0</td>\n",
       "      <td>NaN</td>\n",
       "      <td>NaN</td>\n",
       "    </tr>\n",
       "    <tr>\n",
       "      <th>11</th>\n",
       "      <td>Ponniyamma.R</td>\n",
       "      <td>100.0</td>\n",
       "      <td>11.25</td>\n",
       "      <td>5380</td>\n",
       "      <td>5380</td>\n",
       "      <td>Computer Science and Engineering</td>\n",
       "      <td>0</td>\n",
       "      <td>NaN</td>\n",
       "      <td>NaN</td>\n",
       "    </tr>\n",
       "    <tr>\n",
       "      <th>12</th>\n",
       "      <td>SABAPATHI</td>\n",
       "      <td>100.0</td>\n",
       "      <td>0.00</td>\n",
       "      <td>5280</td>\n",
       "      <td>5280</td>\n",
       "      <td>Computer Science and Engineering</td>\n",
       "      <td>0</td>\n",
       "      <td>NaN</td>\n",
       "      <td>NaN</td>\n",
       "    </tr>\n",
       "    <tr>\n",
       "      <th>13</th>\n",
       "      <td>RAGHAVAN</td>\n",
       "      <td>100.0</td>\n",
       "      <td>0.00</td>\n",
       "      <td>5120</td>\n",
       "      <td>5120</td>\n",
       "      <td>Computer Science and Engineering</td>\n",
       "      <td>0</td>\n",
       "      <td>NaN</td>\n",
       "      <td>NaN</td>\n",
       "    </tr>\n",
       "    <tr>\n",
       "      <th>14</th>\n",
       "      <td>Melvin Dukles.R</td>\n",
       "      <td>56.0</td>\n",
       "      <td>20.00</td>\n",
       "      <td>4800</td>\n",
       "      <td>4800</td>\n",
       "      <td>Electronics and Communication Engineering</td>\n",
       "      <td>0</td>\n",
       "      <td>NaN</td>\n",
       "      <td>NaN</td>\n",
       "    </tr>\n",
       "    <tr>\n",
       "      <th>15</th>\n",
       "      <td>Pavithra</td>\n",
       "      <td>100.0</td>\n",
       "      <td>100.00</td>\n",
       "      <td>4600</td>\n",
       "      <td>4600</td>\n",
       "      <td>Computer Science and Engineering</td>\n",
       "      <td>0</td>\n",
       "      <td>NaN</td>\n",
       "      <td>NaN</td>\n",
       "    </tr>\n",
       "    <tr>\n",
       "      <th>16</th>\n",
       "      <td>PRIYANKA .S</td>\n",
       "      <td>85.0</td>\n",
       "      <td>4.00</td>\n",
       "      <td>4510</td>\n",
       "      <td>4510</td>\n",
       "      <td>Computer Science and Engineering</td>\n",
       "      <td>0</td>\n",
       "      <td>NaN</td>\n",
       "      <td>NaN</td>\n",
       "    </tr>\n",
       "    <tr>\n",
       "      <th>17</th>\n",
       "      <td>v.vithyasri</td>\n",
       "      <td>100.0</td>\n",
       "      <td>12.00</td>\n",
       "      <td>4370</td>\n",
       "      <td>4370</td>\n",
       "      <td>Electronics and Communication Engineering</td>\n",
       "      <td>0</td>\n",
       "      <td>NaN</td>\n",
       "      <td>NaN</td>\n",
       "    </tr>\n",
       "    <tr>\n",
       "      <th>18</th>\n",
       "      <td>Abirami Anbazhagan</td>\n",
       "      <td>100.0</td>\n",
       "      <td>0.00</td>\n",
       "      <td>4320</td>\n",
       "      <td>4320</td>\n",
       "      <td>Electronics and Communication Engineering</td>\n",
       "      <td>0</td>\n",
       "      <td>NaN</td>\n",
       "      <td>NaN</td>\n",
       "    </tr>\n",
       "    <tr>\n",
       "      <th>19</th>\n",
       "      <td>S.srinivasan</td>\n",
       "      <td>100.0</td>\n",
       "      <td>12.00</td>\n",
       "      <td>4090</td>\n",
       "      <td>4090</td>\n",
       "      <td>Computer Science and Engineering</td>\n",
       "      <td>0</td>\n",
       "      <td>NaN</td>\n",
       "      <td>NaN</td>\n",
       "    </tr>\n",
       "    <tr>\n",
       "      <th>20</th>\n",
       "      <td>s.janani</td>\n",
       "      <td>100.0</td>\n",
       "      <td>0.00</td>\n",
       "      <td>3915</td>\n",
       "      <td>3915</td>\n",
       "      <td>Computer Science and Engineering</td>\n",
       "      <td>0</td>\n",
       "      <td>NaN</td>\n",
       "      <td>NaN</td>\n",
       "    </tr>\n",
       "    <tr>\n",
       "      <th>21</th>\n",
       "      <td>kamalishwari</td>\n",
       "      <td>32.0</td>\n",
       "      <td>20.00</td>\n",
       "      <td>3665</td>\n",
       "      <td>3665</td>\n",
       "      <td>Electronics and Communication Engineering</td>\n",
       "      <td>0</td>\n",
       "      <td>NaN</td>\n",
       "      <td>NaN</td>\n",
       "    </tr>\n",
       "    <tr>\n",
       "      <th>22</th>\n",
       "      <td>Yuvasri</td>\n",
       "      <td>100.0</td>\n",
       "      <td>100.00</td>\n",
       "      <td>3460</td>\n",
       "      <td>3460</td>\n",
       "      <td>Computer Science and Engineering</td>\n",
       "      <td>0</td>\n",
       "      <td>NaN</td>\n",
       "      <td>NaN</td>\n",
       "    </tr>\n",
       "    <tr>\n",
       "      <th>23</th>\n",
       "      <td>balaji</td>\n",
       "      <td>82.0</td>\n",
       "      <td>0.00</td>\n",
       "      <td>3280</td>\n",
       "      <td>3280</td>\n",
       "      <td>Computer Science and Engineering</td>\n",
       "      <td>0</td>\n",
       "      <td>NaN</td>\n",
       "      <td>NaN</td>\n",
       "    </tr>\n",
       "    <tr>\n",
       "      <th>24</th>\n",
       "      <td>MEERA.M</td>\n",
       "      <td>100.0</td>\n",
       "      <td>100.00</td>\n",
       "      <td>3200</td>\n",
       "      <td>3200</td>\n",
       "      <td>Computer Science and Engineering</td>\n",
       "      <td>0</td>\n",
       "      <td>NaN</td>\n",
       "      <td>NaN</td>\n",
       "    </tr>\n",
       "    <tr>\n",
       "      <th>25</th>\n",
       "      <td>Tpavithra</td>\n",
       "      <td>100.0</td>\n",
       "      <td>24.00</td>\n",
       "      <td>3200</td>\n",
       "      <td>3200</td>\n",
       "      <td>Electronics and Communication Engineering</td>\n",
       "      <td>0</td>\n",
       "      <td>NaN</td>\n",
       "      <td>NaN</td>\n",
       "    </tr>\n",
       "    <tr>\n",
       "      <th>26</th>\n",
       "      <td>sri dharshini</td>\n",
       "      <td>100.0</td>\n",
       "      <td>100.00</td>\n",
       "      <td>3110</td>\n",
       "      <td>3110</td>\n",
       "      <td>Computer Science and Engineering</td>\n",
       "      <td>0</td>\n",
       "      <td>NaN</td>\n",
       "      <td>NaN</td>\n",
       "    </tr>\n",
       "    <tr>\n",
       "      <th>27</th>\n",
       "      <td>shankari</td>\n",
       "      <td>87.5</td>\n",
       "      <td>20.00</td>\n",
       "      <td>3000</td>\n",
       "      <td>3000</td>\n",
       "      <td>Electronics and Communication Engineering</td>\n",
       "      <td>0</td>\n",
       "      <td>NaN</td>\n",
       "      <td>NaN</td>\n",
       "    </tr>\n",
       "    <tr>\n",
       "      <th>28</th>\n",
       "      <td>pooja priya.B</td>\n",
       "      <td>100.0</td>\n",
       "      <td>100.00</td>\n",
       "      <td>2570</td>\n",
       "      <td>2570</td>\n",
       "      <td>Computer Science and Engineering</td>\n",
       "      <td>0</td>\n",
       "      <td>NaN</td>\n",
       "      <td>NaN</td>\n",
       "    </tr>\n",
       "    <tr>\n",
       "      <th>29</th>\n",
       "      <td>chithra</td>\n",
       "      <td>100.0</td>\n",
       "      <td>0.00</td>\n",
       "      <td>2410</td>\n",
       "      <td>2410</td>\n",
       "      <td>Computer Science and Engineering</td>\n",
       "      <td>0</td>\n",
       "      <td>NaN</td>\n",
       "      <td>NaN</td>\n",
       "    </tr>\n",
       "    <tr>\n",
       "      <th>30</th>\n",
       "      <td>manikandan</td>\n",
       "      <td>100.0</td>\n",
       "      <td>0.00</td>\n",
       "      <td>2360</td>\n",
       "      <td>2360</td>\n",
       "      <td>Computer Science and Engineering</td>\n",
       "      <td>0</td>\n",
       "      <td>NaN</td>\n",
       "      <td>NaN</td>\n",
       "    </tr>\n",
       "    <tr>\n",
       "      <th>31</th>\n",
       "      <td>Kaliaperumal G</td>\n",
       "      <td>100.0</td>\n",
       "      <td>0.00</td>\n",
       "      <td>2260</td>\n",
       "      <td>2260</td>\n",
       "      <td>Computer Science and Engineering</td>\n",
       "      <td>0</td>\n",
       "      <td>NaN</td>\n",
       "      <td>NaN</td>\n",
       "    </tr>\n",
       "    <tr>\n",
       "      <th>32</th>\n",
       "      <td>SarumathiR</td>\n",
       "      <td>16.0</td>\n",
       "      <td>35.00</td>\n",
       "      <td>2240</td>\n",
       "      <td>2240</td>\n",
       "      <td>Electronics and Communication Engineering</td>\n",
       "      <td>0</td>\n",
       "      <td>NaN</td>\n",
       "      <td>NaN</td>\n",
       "    </tr>\n",
       "    <tr>\n",
       "      <th>33</th>\n",
       "      <td>SOWMIYA.V</td>\n",
       "      <td>85.0</td>\n",
       "      <td>0.00</td>\n",
       "      <td>2160</td>\n",
       "      <td>2160</td>\n",
       "      <td>Computer Science and Engineering</td>\n",
       "      <td>0</td>\n",
       "      <td>NaN</td>\n",
       "      <td>NaN</td>\n",
       "    </tr>\n",
       "    <tr>\n",
       "      <th>34</th>\n",
       "      <td>tamilarasi</td>\n",
       "      <td>100.0</td>\n",
       "      <td>100.00</td>\n",
       "      <td>1910</td>\n",
       "      <td>1910</td>\n",
       "      <td>Computer Science and Engineering</td>\n",
       "      <td>0</td>\n",
       "      <td>NaN</td>\n",
       "      <td>NaN</td>\n",
       "    </tr>\n",
       "  </tbody>\n",
       "</table>\n",
       "</div>"
      ],
      "text/plain": [
       "                    Name  python   mysql  Previous Geekions  CodeKata Score  \\\n",
       "0              A.Dharani    82.0   20.00              24500           24500   \n",
       "1            V.JEEVITHA     82.0   20.00              21740           21740   \n",
       "2            HEMAVATHI.R   100.0  100.00              19680           19680   \n",
       "3            Mugunthan S   100.0   47.00              10610           10610   \n",
       "4            Sathammai.S   100.0    8.00               8980            8980   \n",
       "5           NIVEESHWAR S   100.0    0.00               8200            8200   \n",
       "6          KALAIARASAN K    85.0   47.00               7750            7880   \n",
       "7   MOHAMED ZUBAIR AHMED    82.0    4.00               7020            7020   \n",
       "8             J.SUGANTHI    27.0   50.00               5860            5860   \n",
       "9           thamizhpaana    29.0    0.00               5500            5500   \n",
       "10       Iyappan Samiraj    50.0   24.00               5400            5400   \n",
       "11          Ponniyamma.R   100.0   11.25               5380            5380   \n",
       "12             SABAPATHI   100.0    0.00               5280            5280   \n",
       "13              RAGHAVAN   100.0    0.00               5120            5120   \n",
       "14       Melvin Dukles.R    56.0   20.00               4800            4800   \n",
       "15              Pavithra   100.0  100.00               4600            4600   \n",
       "16           PRIYANKA .S    85.0    4.00               4510            4510   \n",
       "17           v.vithyasri   100.0   12.00               4370            4370   \n",
       "18    Abirami Anbazhagan   100.0    0.00               4320            4320   \n",
       "19          S.srinivasan   100.0   12.00               4090            4090   \n",
       "20              s.janani   100.0    0.00               3915            3915   \n",
       "21          kamalishwari    32.0   20.00               3665            3665   \n",
       "22               Yuvasri   100.0  100.00               3460            3460   \n",
       "23                balaji    82.0    0.00               3280            3280   \n",
       "24               MEERA.M   100.0  100.00               3200            3200   \n",
       "25             Tpavithra   100.0   24.00               3200            3200   \n",
       "26         sri dharshini   100.0  100.00               3110            3110   \n",
       "27              shankari    87.5   20.00               3000            3000   \n",
       "28         pooja priya.B   100.0  100.00               2570            2570   \n",
       "29               chithra   100.0    0.00               2410            2410   \n",
       "30            manikandan   100.0    0.00               2360            2360   \n",
       "31        Kaliaperumal G   100.0    0.00               2260            2260   \n",
       "32            SarumathiR    16.0   35.00               2240            2240   \n",
       "33             SOWMIYA.V    85.0    0.00               2160            2160   \n",
       "34            tamilarasi   100.0  100.00               1910            1910   \n",
       "\n",
       "                                   Department  Rising  python_en  \\\n",
       "0            Computer Science and Engineering       0        NaN   \n",
       "1            Computer Science and Engineering       0        NaN   \n",
       "2            Computer Science and Engineering       0        NaN   \n",
       "3            Computer Science and Engineering       0        NaN   \n",
       "4            Computer Science and Engineering       0        NaN   \n",
       "5            Computer Science and Engineering       0        NaN   \n",
       "6   Electronics and Communication Engineering     130        NaN   \n",
       "7            Computer Science and Engineering       0        NaN   \n",
       "8   Electronics and Communication Engineering       0        NaN   \n",
       "9            Computer Science and Engineering       0        NaN   \n",
       "10  Electronics and Communication Engineering       0        NaN   \n",
       "11           Computer Science and Engineering       0        NaN   \n",
       "12           Computer Science and Engineering       0        NaN   \n",
       "13           Computer Science and Engineering       0        NaN   \n",
       "14  Electronics and Communication Engineering       0        NaN   \n",
       "15           Computer Science and Engineering       0        NaN   \n",
       "16           Computer Science and Engineering       0        NaN   \n",
       "17  Electronics and Communication Engineering       0        NaN   \n",
       "18  Electronics and Communication Engineering       0        NaN   \n",
       "19           Computer Science and Engineering       0        NaN   \n",
       "20           Computer Science and Engineering       0        NaN   \n",
       "21  Electronics and Communication Engineering       0        NaN   \n",
       "22           Computer Science and Engineering       0        NaN   \n",
       "23           Computer Science and Engineering       0        NaN   \n",
       "24           Computer Science and Engineering       0        NaN   \n",
       "25  Electronics and Communication Engineering       0        NaN   \n",
       "26           Computer Science and Engineering       0        NaN   \n",
       "27  Electronics and Communication Engineering       0        NaN   \n",
       "28           Computer Science and Engineering       0        NaN   \n",
       "29           Computer Science and Engineering       0        NaN   \n",
       "30           Computer Science and Engineering       0        NaN   \n",
       "31           Computer Science and Engineering       0        NaN   \n",
       "32  Electronics and Communication Engineering       0        NaN   \n",
       "33           Computer Science and Engineering       0        NaN   \n",
       "34           Computer Science and Engineering       0        NaN   \n",
       "\n",
       "    computational_thinking  \n",
       "0                      NaN  \n",
       "1                      NaN  \n",
       "2                      NaN  \n",
       "3                      NaN  \n",
       "4                      NaN  \n",
       "5                      NaN  \n",
       "6                      NaN  \n",
       "7                      NaN  \n",
       "8                      NaN  \n",
       "9                      NaN  \n",
       "10                     NaN  \n",
       "11                     NaN  \n",
       "12                     NaN  \n",
       "13                     NaN  \n",
       "14                     NaN  \n",
       "15                     NaN  \n",
       "16                     NaN  \n",
       "17                     NaN  \n",
       "18                     NaN  \n",
       "19                     NaN  \n",
       "20                     NaN  \n",
       "21                     NaN  \n",
       "22                     NaN  \n",
       "23                     NaN  \n",
       "24                     NaN  \n",
       "25                     NaN  \n",
       "26                     NaN  \n",
       "27                     NaN  \n",
       "28                     NaN  \n",
       "29                     NaN  \n",
       "30                     NaN  \n",
       "31                     NaN  \n",
       "32                     NaN  \n",
       "33                     NaN  \n",
       "34                     NaN  "
      ]
     },
     "execution_count": 44,
     "metadata": {},
     "output_type": "execute_result"
    }
   ],
   "source": [
    "data1 = pd.read_csv('college_1.csv')\n",
    "data2 = pd.read_csv('college_2.csv')\n",
    "\n",
    "finaldata=pd.concat([data1,data2])\n",
    "finaldata.to_csv('FinalData.csv',index=False)\n",
    "finaldata.head(35)"
   ]
  },
  {
   "cell_type": "markdown",
   "metadata": {},
   "source": [
    "###### Take each csv file , split that csv file into multiple categories (example csv files are added in the repo) \n"
   ]
  },
  {
   "cell_type": "markdown",
   "metadata": {},
   "source": [
    "###### consider if the codekata score exceeds 15000 points(present week) then make a csv on those observations as Exceeded expectations.csv\n"
   ]
  },
  {
   "cell_type": "markdown",
   "metadata": {},
   "source": [
    "###### if  10000<codekata score<15000   (Reached_expectations.csv)\n",
    "\n"
   ]
  },
  {
   "cell_type": "markdown",
   "metadata": {},
   "source": [
    "###### if  7000<codekata score<10000   (Needs_Improvement.csv)\n"
   ]
  },
  {
   "cell_type": "markdown",
   "metadata": {},
   "source": [
    "###### if  codekate score < 7000        (Unsatisfactory.csv)"
   ]
  },
  {
   "cell_type": "code",
   "execution_count": 35,
   "metadata": {},
   "outputs": [],
   "source": [
    "ExExp=finaldata[finaldata['CodeKata Score']>=15000]\n",
    "\n",
    "ReExp=finaldata[(finaldata['CodeKata Score']<15000)&(finaldata['CodeKata Score']>10000)]\n",
    "\n",
    "NeImp=finaldata[(finaldata['CodeKata Score']<10000)&(finaldata['CodeKata Score']>7000)]\n",
    "\n",
    "UnSat=finaldata[finaldata['CodeKata Score']<7000]"
   ]
  },
  {
   "cell_type": "code",
   "execution_count": 36,
   "metadata": {},
   "outputs": [],
   "source": [
    "ExExp.to_csv('Exceeded expectations.csv',index=False)\n",
    "ReExp.to_csv('Reached_expectations.csv',index=False)\n",
    "NeImp.to_csv('Needs_Improvement.csv',index=False)\n",
    "UnSat.to_csv('Unsatisfactory.csv',index=False)"
   ]
  },
  {
   "cell_type": "markdown",
   "metadata": {},
   "source": [
    "###### Average of previous week geekions vs this week geekions (i.e Previous Geekions vs CodeKata Score)"
   ]
  },
  {
   "cell_type": "code",
   "execution_count": 40,
   "metadata": {},
   "outputs": [
    {
     "name": "stdout",
     "output_type": "stream",
     "text": [
      "3842.3529411764707\n",
      "4051.764705882353\n"
     ]
    }
   ],
   "source": [
    "print(finaldata['Previous Geekions'].mean())\n",
    "print(finaldata['CodeKata Score'].mean())"
   ]
  },
  {
   "cell_type": "markdown",
   "metadata": {},
   "source": [
    "###### No of students participated "
   ]
  },
  {
   "cell_type": "code",
   "execution_count": 43,
   "metadata": {},
   "outputs": [
    {
     "data": {
      "text/plain": [
       "119"
      ]
     },
     "execution_count": 43,
     "metadata": {},
     "output_type": "execute_result"
    }
   ],
   "source": [
    "finaldata['Name'].nunique()"
   ]
  },
  {
   "cell_type": "markdown",
   "metadata": {},
   "source": [
    "###### #Average completion of python course or my_sql or python english or computational thinking"
   ]
  },
  {
   "cell_type": "code",
   "execution_count": 106,
   "metadata": {},
   "outputs": [
    {
     "name": "stdout",
     "output_type": "stream",
     "text": [
      "Average completion of python= 34.45378151260504 %\n",
      "Average completion of sql= 11.76470588235294 %\n",
      "Average completion of python_en= 1.680672268907563 %\n",
      "Average completion of computational_thinking= 1.680672268907563 %\n"
     ]
    }
   ],
   "source": [
    "TotalStudent=finaldata['Name'].count()\n",
    "\n",
    "x=finaldata[finaldata['python']==100]['Name'].count()\n",
    "AverageCompletionPython= (x/TotalStudent)*100\n",
    "print('Average completion of python=',AverageCompletionPython, '%')\n",
    "\n",
    "\n",
    "y=finaldata[finaldata['mysql']==100]['Name'].count()\n",
    "AverageCompletionSql= (y/TotalStudent)*100\n",
    "print('Average completion of sql=',AverageCompletionSql, '%')\n",
    "\n",
    "\n",
    "a=finaldata[finaldata['python_en']==100]['Name'].count()\n",
    "AverageCompletionpython_en= (a/TotalStudent)*100\n",
    "print('Average completion of python_en=',AverageCompletionpython_en, '%')\n",
    "\n",
    "b=finaldata[finaldata['computational_thinking']==100]['Name'].count()\n",
    "AverageCompletionCT= (a/TotalStudent)*100\n",
    "print('Average completion of computational_thinking=',AverageCompletionCT, '%')"
   ]
  },
  {
   "cell_type": "markdown",
   "metadata": {},
   "source": [
    "###### rising star of the week (top 3 candidate who performed well in that particular week)"
   ]
  },
  {
   "cell_type": "code",
   "execution_count": 68,
   "metadata": {},
   "outputs": [],
   "source": [
    "RiSt=finaldata.nlargest(3, ['Rising'])\n",
    "RiSt.to_csv('Rising star of the week.csv',index=False)"
   ]
  },
  {
   "cell_type": "markdown",
   "metadata": {},
   "source": [
    "###### Shining stars of the week (top 3 candidates who has highest geekions)"
   ]
  },
  {
   "cell_type": "code",
   "execution_count": 71,
   "metadata": {},
   "outputs": [],
   "source": [
    "ShSt=finaldata.nlargest(3, ['CodeKata Score'])\n",
    "ShSt.to_csv('Shining stars of the week.csv',index=False)"
   ]
  },
  {
   "cell_type": "markdown",
   "metadata": {},
   "source": [
    "###### Department wise codekata performence (pie chart)"
   ]
  },
  {
   "cell_type": "code",
   "execution_count": 86,
   "metadata": {},
   "outputs": [
    {
     "data": {
      "text/plain": [
       "<AxesSubplot:title={'center':'Department wise codekata performence'}, ylabel='CodeKata Score'>"
      ]
     },
     "execution_count": 86,
     "metadata": {},
     "output_type": "execute_result"
    },
    {
     "data": {
      "image/png": "[encoded data removed]",
      "text/plain": [
       "<Figure size 432x288 with 1 Axes>"
      ]
     },
     "metadata": {},
     "output_type": "display_data"
    }
   ],
   "source": [
    "groupby1=finaldata.groupby('Department')['CodeKata Score'].max()\n",
    "groupby1.plot.pie(title='Department wise codekata performence')"
   ]
  },
  {
   "cell_type": "markdown",
   "metadata": {},
   "source": [
    "###### Department wise toppers (horizantal bar graph or any visual representations of your choice)"
   ]
  },
  {
   "cell_type": "code",
   "execution_count": 89,
   "metadata": {},
   "outputs": [
    {
     "data": {
      "text/plain": [
       "<AxesSubplot:title={'center':'Department wise toppers'}, xlabel='Department'>"
      ]
     },
     "execution_count": 89,
     "metadata": {},
     "output_type": "execute_result"
    },
    {
     "data": {
      "image/png": "[encoded data removed]",
      "text/plain": [
       "<Figure size 432x288 with 1 Axes>"
      ]
     },
     "metadata": {
      "needs_background": "light"
     },
     "output_type": "display_data"
    }
   ],
   "source": [
    "groupby2=finaldata.groupby('Department')['CodeKata Score'].max()\n",
    "groupby2.plot.bar(title='Department wise toppers')"
   ]
  },
  {
   "cell_type": "code",
   "execution_count": 90,
   "metadata": {},
   "outputs": [
    {
     "data": {
      "text/plain": [
       "<AxesSubplot:title={'center':'Department wise toppers'}, xlabel='Department'>"
      ]
     },
     "execution_count": 90,
     "metadata": {},
     "output_type": "execute_result"
    },
    {
     "data": {
      "image/png": "[encoded data removed]",
      "text/plain": [
       "<Figure size 432x288 with 1 Axes>"
      ]
     },
     "metadata": {
      "needs_background": "light"
     },
     "output_type": "display_data"
    }
   ],
   "source": [
    "groupby3=finaldata.groupby('Department')['CodeKata Score'].describe()\n",
    "groupby3.plot.bar(title='Department wise toppers')"
   ]
  }
 ],
 "metadata": {
  "kernelspec": {
   "display_name": "Python 3 (ipykernel)",
   "language": "python",
   "name": "python3"
  },
  "language_info": {
   "codemirror_mode": {
    "name": "ipython",
    "version": 3
   },
   "file_extension": ".py",
   "mimetype": "text/x-python",
   "name": "python",
   "nbconvert_exporter": "python",
   "pygments_lexer": "ipython3",
   "version": "3.9.7"
  }
 },
 "nbformat": 4,
 "nbformat_minor": 2
}
